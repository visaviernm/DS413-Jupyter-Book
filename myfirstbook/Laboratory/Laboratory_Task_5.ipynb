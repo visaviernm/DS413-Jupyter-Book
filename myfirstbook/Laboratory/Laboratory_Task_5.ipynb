{
 "cells": [
  {
   "cell_type": "markdown",
   "id": "d23d6aa1",
   "metadata": {},
   "source": [
    "# Laboratory Task 5"
   ]
  }
 ],
 "metadata": {
  "language_info": {
   "name": "python"
  }
 },
 "nbformat": 4,
 "nbformat_minor": 5
}
