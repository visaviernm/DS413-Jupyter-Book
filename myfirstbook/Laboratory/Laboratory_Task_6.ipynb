{
 "cells": [
  {
   "cell_type": "markdown",
   "id": "3845dc69",
   "metadata": {},
   "source": [
    "# Laboratory Task 6\n",
    "\n",
    "\n",
    "**Instruction:** Instruction: Convert the following CNN architecture diagram into a PyTorch CNN Architecture.\n",
    "\n",
    "![Caption text](/workspaces/DS413-Jupyter-Book/myfirstbook/images/quick_draw.png)"
   ]
  },
  {
   "cell_type": "code",
   "execution_count": null,
   "id": "703029da",
   "metadata": {
    "vscode": {
     "languageId": "plaintext"
    }
   },
   "outputs": [],
   "source": []
  }
 ],
 "metadata": {
  "language_info": {
   "name": "python"
  }
 },
 "nbformat": 4,
 "nbformat_minor": 5
}
