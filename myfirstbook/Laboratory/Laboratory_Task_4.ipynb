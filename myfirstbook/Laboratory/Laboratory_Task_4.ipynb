{
 "cells": [
  {
   "cell_type": "markdown",
   "id": "49a20dbb",
   "metadata": {},
   "source": [
    "# Laboratory Task 4"
   ]
  },
  {
   "cell_type": "markdown",
   "id": "76728737",
   "metadata": {},
   "source": [
    "**Instruction:** Train a linear regression model in PyTorch using a regression dataset. Use the following parameters.\n",
    "\n",
    "Criterion: MSE Loss <br>\n",
    "Fully Connected Layers x 2 <br>\n",
    "Batch Size: 8 <br>\n",
    "Optimizer: SGD <br>\n",
    "Epoch: 1000 <br>"
   ]
  },
  {
   "cell_type": "code",
   "execution_count": 1,
   "id": "9050253d",
   "metadata": {},
   "outputs": [],
   "source": [
    "# Import libraries\n",
    "\n",
    "import torch\n",
    "from sklearn import datasets\n",
    "from sklearn.model_selection import train_test_split\n",
    "from torch.utils.data import TensorDataset, DataLoader"
   ]
  },
  {
   "cell_type": "code",
   "execution_count": 2,
   "id": "84e8e297",
   "metadata": {},
   "outputs": [],
   "source": [
    "# Load diabetes dataset\n",
    "\n",
    "diabetes = datasets.load_diabetes()\n",
    "X, y = diabetes.data, diabetes.target"
   ]
  },
  {
   "cell_type": "code",
   "execution_count": 3,
   "id": "4fe0726e",
   "metadata": {},
   "outputs": [],
   "source": [
    "# Split data into train and test sets\n",
    "X_train, X_test, y_train, y_test = train_test_split(X, y, test_size=0.2, random_state=42)"
   ]
  },
  {
   "cell_type": "code",
   "execution_count": 4,
   "id": "ec479683",
   "metadata": {},
   "outputs": [],
   "source": [
    "# Convert to Pytorch tensors\n",
    "X_train_tensor = torch.tensor(X_train, dtype=torch.float32)\n",
    "y_train_tensor = torch.tensor(y_train, dtype=torch.float32).unsqueeze(1)\n",
    "X_test_tensor = torch.tensor(X_test, dtype=torch.float32)\n",
    "y_test_tensor = torch.tensor(y_test, dtype=torch.float32).unsqueeze(1)"
   ]
  },
  {
   "cell_type": "code",
   "execution_count": 5,
   "id": "b8fd1f89",
   "metadata": {},
   "outputs": [],
   "source": [
    "# Create dataset and dataloader\n",
    "train_ds = TensorDataset(X_train_tensor, y_train_tensor)\n",
    "test_ds = TensorDataset(X_test_tensor, y_test_tensor)\n",
    "\n",
    "train_dl = DataLoader(train_ds, batch_size=8, shuffle=True)\n",
    "test_dl = DataLoader(test_ds, batch_size=8)"
   ]
  },
  {
   "cell_type": "code",
   "execution_count": 6,
   "id": "000f64d6",
   "metadata": {},
   "outputs": [],
   "source": [
    "# Define model with 2 layers\n",
    "import torch.nn as nn\n",
    "\n",
    "class LinearRegression(nn.Module):\n",
    "    def __init__(self, input_size, hidden_size, output_size):\n",
    "        super(LinearRegression, self).__init__()\n",
    "        self.fc1 = nn.Linear(input_size, hidden_size)\n",
    "        self.relu = nn.ReLU()\n",
    "        self.fc2 = nn.Linear(hidden_size, output_size)\n",
    "\n",
    "    def forward(self, x):\n",
    "        out = self.fc1(x)\n",
    "        out = self.relu(out)\n",
    "        out = self.fc2(out)\n",
    "        return out\n",
    "\n",
    "# Instantiate the model\n",
    "input_size = X_train.shape[1] # Number of features in the diabetes dataset\n",
    "hidden_size = 64 # Chosen number of hidden units\n",
    "output_size = 1 # Predicting a single value (diabetes progression)\n",
    "\n",
    "model = LinearRegression(input_size, hidden_size, output_size)"
   ]
  },
  {
   "cell_type": "code",
   "execution_count": 7,
   "id": "b8536b00",
   "metadata": {},
   "outputs": [],
   "source": [
    "# Define loss function and optimizer\n",
    "criterion = nn.MSELoss()\n",
    "optimizer = torch.optim.SGD(model.parameters(), lr=0.001)"
   ]
  },
  {
   "cell_type": "code",
   "execution_count": 8,
   "id": "711f9301",
   "metadata": {},
   "outputs": [
    {
     "name": "stdout",
     "output_type": "stream",
     "text": [
      "Epoch [100/1000], Loss: 889.2164\n",
      "Epoch [200/1000], Loss: 6794.8774\n",
      "Epoch [300/1000], Loss: 1055.3655\n",
      "Epoch [400/1000], Loss: 3167.1101\n",
      "Epoch [500/1000], Loss: 231.6484\n",
      "Epoch [600/1000], Loss: 7193.9653\n",
      "Epoch [700/1000], Loss: 23.2701\n",
      "Epoch [800/1000], Loss: 10.2027\n",
      "Epoch [900/1000], Loss: 2050.8794\n",
      "Epoch [1000/1000], Loss: 1004.9556\n"
     ]
    }
   ],
   "source": [
    "# Train the model\n",
    "num_epochs = 1000\n",
    "\n",
    "for epoch in range(num_epochs):\n",
    "    for inputs, targets in train_dl:\n",
    "        preds = model(inputs)\n",
    "        loss = criterion(preds, targets)\n",
    "        optimizer.zero_grad()\n",
    "        loss.backward()\n",
    "        optimizer.step()\n",
    "\n",
    "    if (epoch + 1) % 100 == 0:\n",
    "        print(f'Epoch [{epoch+1}/{num_epochs}], Loss: {loss.item():.4f}')"
   ]
  },
  {
   "cell_type": "code",
   "execution_count": 9,
   "id": "3e189a35",
   "metadata": {},
   "outputs": [
    {
     "name": "stdout",
     "output_type": "stream",
     "text": [
      "Average Test Loss: 2595.3284\n"
     ]
    }
   ],
   "source": [
    "# Evaluate model\n",
    "\n",
    "model.eval()\n",
    "\n",
    "with torch.no_grad():\n",
    "    total_test_loss = 0\n",
    "    num_batches = 0\n",
    "    for inputs, targets in test_dl:\n",
    "        preds = model(inputs)\n",
    "        loss = criterion(preds, targets)\n",
    "        total_test_loss += loss.item()\n",
    "        num_batches += 1\n",
    "\n",
    "    average_test_loss = total_test_loss / num_batches\n",
    "\n",
    "    print(f'Average Test Loss: {average_test_loss:.4f}')"
   ]
  }
 ],
 "metadata": {
  "kernelspec": {
   "display_name": "ds413-jupyter-book-o3Nm-7iB-py3.12",
   "language": "python",
   "name": "python3"
  },
  "language_info": {
   "codemirror_mode": {
    "name": "ipython",
    "version": 3
   },
   "file_extension": ".py",
   "mimetype": "text/x-python",
   "name": "python",
   "nbconvert_exporter": "python",
   "pygments_lexer": "ipython3",
   "version": "3.12.1"
  }
 },
 "nbformat": 4,
 "nbformat_minor": 5
}
