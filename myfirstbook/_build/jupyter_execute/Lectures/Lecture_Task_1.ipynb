{
 "cells": [
  {
   "cell_type": "markdown",
   "id": "01999790",
   "metadata": {},
   "source": [
    "# Lecture Task 1 "
   ]
  },
  {
   "cell_type": "markdown",
   "id": "a2b77e1b",
   "metadata": {},
   "source": [
    "**Machine Learning: Living in the Age of AI | A WIRED Film Reaction Paper**"
   ]
  },
  {
   "cell_type": "markdown",
   "id": "37dffec3",
   "metadata": {},
   "source": [
    "The video shows how AI and Machine Learning has been present in our lives. It can be seen through \n",
    "AI assistants, smart watches monitoring us during our workouts, and through our photo gallery which \n",
    "sorts out our photos. It also showcases how AI has been advancing rapidly in recent years, and how \n",
    "accessible it is already for people. <br>\n",
    "The video shows several significant advancements in AI that have a positive impact on society. Firstly on disease detection and treatment, which is done through machine learning. The first one is to identify what type of skin disease one has just by taking a picture of the affected area of the skin. The other one is by making a machine determine where the pancreas is exactly located by feeding it 3D images of areas of the pancreas. These advancement is helpful in immediately detecting diseases and to help in eliminating it more effectively on our body through treatments. Next is the development of self-driving cars. Although the video shows that it is still not  quite reliable in terms of transporting us from one place to another, it shows a big potential to be helpful for people that cannot drive or to elderly people that have a hard time driving due to their age. Lastly is the use of AI to automate crop harvesting and using image recognition techniques to determine the areas where to best plant crops and determine areas that need to be watered or fertilized. This advancement is significant as it helps to make farming more productive by being able to produce more crops in a span of time. <br>\n",
    "It envisions that it will still have a lot of improvements over the next few years given that we have the technologies that are capable of computing and handling a lot of data nowadays. It also sees that we will have technology that can do repetitive, mundane things for us so that we will be able to have more time on more important things. It also opens an opportunity for more jobs related to technology. But it also introduced challenges such as being used to spreading misinformation or committing fraud by using deepfake to pretend to be someone. Another challenge is that it may cause job displacements as AI can replace doing those mundane tasks. <br>\n",
    "To strike a balance between AI advancements and addressing the drawbacks of it, there should be \n",
    "laws and resolutions to avoid harmful uses of AI while allowing further advancements. Making sure \n",
    "that building of AI is ethical, by being transparent and ensuring fairness in the models is also one way to address it. <br>\n",
    "Despite the positive impact AI advancement has on our society, it is important to also address the \n",
    "negative impact it might bring. Instead of thinking that AI must replace us in society, we must think that it should only be a tool that helps us in making our daily lives more productive. <br>"
   ]
  }
 ],
 "metadata": {
  "language_info": {
   "codemirror_mode": {
    "name": "ipython",
    "version": 3
   },
   "file_extension": ".py",
   "mimetype": "text/x-python",
   "name": "python",
   "nbconvert_exporter": "python",
   "pygments_lexer": "ipython3",
   "version": "3.12.1"
  }
 },
 "nbformat": 4,
 "nbformat_minor": 5
}