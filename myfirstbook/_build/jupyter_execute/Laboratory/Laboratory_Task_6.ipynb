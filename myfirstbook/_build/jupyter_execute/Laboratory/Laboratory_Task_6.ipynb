{
 "cells": [
  {
   "cell_type": "markdown",
   "id": "3845dc69",
   "metadata": {},
   "source": [
    "# Laboratory Task 6\n",
    "\n",
    "\n",
    "**Instruction:** Instruction: Convert the following CNN architecture diagram into a PyTorch CNN Architecture.\n",
    "\n",
    "![Caption text](../images/quick_draw.png)"
   ]
  },
  {
   "cell_type": "code",
   "execution_count": null,
   "id": "703029da",
   "metadata": {
    "vscode": {
     "languageId": "plaintext"
    }
   },
   "outputs": [],
   "source": []
  }
 ],
 "metadata": {
  "language_info": {
   "codemirror_mode": {
    "name": "ipython",
    "version": 3
   },
   "file_extension": ".py",
   "mimetype": "text/x-python",
   "name": "python",
   "nbconvert_exporter": "python",
   "pygments_lexer": "ipython3",
   "version": "3.12.1"
  }
 },
 "nbformat": 4,
 "nbformat_minor": 5
}