{
 "cells": [
  {
   "cell_type": "markdown",
   "id": "49a20dbb",
   "metadata": {},
   "source": [
    "# Laboratory Task 4"
   ]
  },
  {
   "cell_type": "markdown",
   "id": "76728737",
   "metadata": {},
   "source": [
    "**Instruction:** Train a linear regression model in PyTorch using a regression dataset. Use the following parameters.\n",
    "\n",
    "Criterion: MSE Loss <br>\n",
    "Fully Connected Layers x 2 <br>\n",
    "Batch Size: 8 <br>\n",
    "Optimizer: SGD <br>\n",
    "Epoch: 1000 <br>"
   ]
  },
  {
   "cell_type": "code",
   "execution_count": 1,
   "id": "9050253d",
   "metadata": {
    "vscode": {
     "languageId": "plaintext"
    }
   },
   "outputs": [],
   "source": [
    "# Import libraries\n",
    "\n",
    "import torch\n",
    "import torch.nn as nn\n",
    "from torch.utils.data import TensorDataset, DataLoader\n",
    "import numpy as np"
   ]
  },
  {
   "cell_type": "code",
   "execution_count": null,
   "id": "84e8e297",
   "metadata": {
    "vscode": {
     "languageId": "plaintext"
    }
   },
   "outputs": [],
   "source": []
  }
 ],
 "metadata": {
  "language_info": {
   "codemirror_mode": {
    "name": "ipython",
    "version": 3
   },
   "file_extension": ".py",
   "mimetype": "text/x-python",
   "name": "python",
   "nbconvert_exporter": "python",
   "pygments_lexer": "ipython3",
   "version": "3.12.1"
  }
 },
 "nbformat": 4,
 "nbformat_minor": 5
}