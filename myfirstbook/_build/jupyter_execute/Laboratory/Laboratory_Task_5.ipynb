{
 "cells": [
  {
   "cell_type": "markdown",
   "id": "d23d6aa1",
   "metadata": {},
   "source": [
    "# Laboratory Task 5\n",
    "\n",
    "##### Pytorch Exercise"
   ]
  },
  {
   "cell_type": "markdown",
   "id": "8a375544",
   "metadata": {},
   "source": [
    "1. Perform Standard Imports"
   ]
  },
  {
   "cell_type": "code",
   "execution_count": 1,
   "id": "6ace89ce",
   "metadata": {},
   "outputs": [],
   "source": [
    "import torch\n",
    "import numpy as np\n",
    "import sys"
   ]
  },
  {
   "cell_type": "markdown",
   "id": "d93ef70c",
   "metadata": {},
   "source": [
    "2. Create a function called set_seed() that accepts seed: int as a parameter, this function must return nothing but just set the seed to a certain value."
   ]
  },
  {
   "cell_type": "code",
   "execution_count": 2,
   "id": "14983ffd",
   "metadata": {},
   "outputs": [],
   "source": [
    "def set_seed(seed: int):\n",
    "    np.random.seed(seed)\n",
    "    torch.manual_seed(seed)"
   ]
  },
  {
   "cell_type": "markdown",
   "id": "4ce98fad",
   "metadata": {},
   "source": [
    "3. Create a NumPy array called \"arr\" that contains 6 random integers between 0 (inclusive) and 5 (exclusive), call the set_seed() function and use 42 as the seed parameter."
   ]
  },
  {
   "cell_type": "code",
   "execution_count": 3,
   "id": "ffa1a419",
   "metadata": {},
   "outputs": [],
   "source": [
    "arr = np.random.randint(0,5,6)\n",
    "\n",
    "set_seed(42)"
   ]
  },
  {
   "cell_type": "markdown",
   "id": "3bb0bbaf",
   "metadata": {},
   "source": [
    "4. Create a tensor \"x\" from the array above"
   ]
  },
  {
   "cell_type": "code",
   "execution_count": 4,
   "id": "8fd224d2",
   "metadata": {},
   "outputs": [
    {
     "data": {
      "text/plain": [
       "tensor([4, 1, 1, 3, 0, 4])"
      ]
     },
     "execution_count": 4,
     "metadata": {},
     "output_type": "execute_result"
    }
   ],
   "source": [
    "x = torch.tensor(arr)\n",
    "x"
   ]
  },
  {
   "cell_type": "markdown",
   "id": "0a26310d",
   "metadata": {},
   "source": [
    "5. Change the dtype of x from int32 to int64"
   ]
  },
  {
   "cell_type": "code",
   "execution_count": 5,
   "id": "58b28aa0",
   "metadata": {},
   "outputs": [
    {
     "name": "stdout",
     "output_type": "stream",
     "text": [
      "torch.int64\n"
     ]
    }
   ],
   "source": [
    "x = x.type(torch.int64)\n",
    "print(x.dtype)"
   ]
  },
  {
   "cell_type": "markdown",
   "id": "a19b5335",
   "metadata": {},
   "source": [
    "6. Reshape x into a 3x2 tensor"
   ]
  },
  {
   "cell_type": "code",
   "execution_count": 6,
   "id": "63572f85",
   "metadata": {},
   "outputs": [
    {
     "data": {
      "text/plain": [
       "tensor([[4, 1],\n",
       "        [1, 3],\n",
       "        [0, 4]])"
      ]
     },
     "execution_count": 6,
     "metadata": {},
     "output_type": "execute_result"
    }
   ],
   "source": [
    "x = x.reshape(3,2)\n",
    "x.view_as(x)"
   ]
  },
  {
   "cell_type": "markdown",
   "id": "d5038ca5",
   "metadata": {},
   "source": [
    "7. Return the right-hand column of tensor x"
   ]
  },
  {
   "cell_type": "code",
   "execution_count": 7,
   "id": "228aa0d5",
   "metadata": {},
   "outputs": [
    {
     "data": {
      "text/plain": [
       "tensor([[1],\n",
       "        [3],\n",
       "        [4]])"
      ]
     },
     "execution_count": 7,
     "metadata": {},
     "output_type": "execute_result"
    }
   ],
   "source": [
    "x = x\n",
    "rhc = x[:, 1:]\n",
    "rhc"
   ]
  },
  {
   "cell_type": "markdown",
   "id": "1f527ed8",
   "metadata": {},
   "source": [
    "8. Without changing x, return a tensor of square values of x"
   ]
  },
  {
   "cell_type": "code",
   "execution_count": 8,
   "id": "aafe1b0f",
   "metadata": {},
   "outputs": [
    {
     "data": {
      "text/plain": [
       "tensor([[16,  1],\n",
       "        [ 1,  9],\n",
       "        [ 0, 16]])"
      ]
     },
     "execution_count": 8,
     "metadata": {},
     "output_type": "execute_result"
    }
   ],
   "source": [
    "x = x\n",
    "sq_val = x ** 2\n",
    "sq_val"
   ]
  },
  {
   "cell_type": "markdown",
   "id": "71f2abfe",
   "metadata": {},
   "source": [
    "9. Create a tensor y with the same number of elements as x, that can be matrix-multiplied with x"
   ]
  },
  {
   "cell_type": "code",
   "execution_count": 9,
   "id": "06ab6742",
   "metadata": {},
   "outputs": [
    {
     "data": {
      "text/plain": [
       "tensor([[2, 2, 1],\n",
       "        [4, 1, 0]])"
      ]
     },
     "execution_count": 9,
     "metadata": {},
     "output_type": "execute_result"
    }
   ],
   "source": [
    "y = torch.randint(0, 5, (2, 3))\n",
    "y"
   ]
  },
  {
   "cell_type": "markdown",
   "id": "bbc15716",
   "metadata": {},
   "source": [
    "10. Find the matrix product of x and y."
   ]
  },
  {
   "cell_type": "code",
   "execution_count": 10,
   "id": "04b783a9",
   "metadata": {},
   "outputs": [
    {
     "data": {
      "text/plain": [
       "tensor([[12,  9,  4],\n",
       "        [14,  5,  1],\n",
       "        [16,  4,  0]])"
      ]
     },
     "execution_count": 10,
     "metadata": {},
     "output_type": "execute_result"
    }
   ],
   "source": [
    "matrix_prod = torch.matmul(x, y)\n",
    "matrix_prod"
   ]
  }
 ],
 "metadata": {
  "kernelspec": {
   "display_name": "ds413-jupyter-book-o3Nm-7iB-py3.12",
   "language": "python",
   "name": "python3"
  },
  "language_info": {
   "codemirror_mode": {
    "name": "ipython",
    "version": 3
   },
   "file_extension": ".py",
   "mimetype": "text/x-python",
   "name": "python",
   "nbconvert_exporter": "python",
   "pygments_lexer": "ipython3",
   "version": "3.12.1"
  }
 },
 "nbformat": 4,
 "nbformat_minor": 5
}