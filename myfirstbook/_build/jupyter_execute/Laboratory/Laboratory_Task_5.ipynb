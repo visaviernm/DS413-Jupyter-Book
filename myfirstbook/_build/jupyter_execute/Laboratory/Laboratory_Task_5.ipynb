{
 "cells": [
  {
   "cell_type": "markdown",
   "id": "d23d6aa1",
   "metadata": {},
   "source": [
    "# Laboratory Task 5\n",
    "\n",
    "##### Pytorch Exercise"
   ]
  },
  {
   "cell_type": "markdown",
   "id": "8a375544",
   "metadata": {},
   "source": [
    "1. Perform Standard Imports"
   ]
  },
  {
   "cell_type": "code",
   "execution_count": 1,
   "id": "befbfbfd",
   "metadata": {},
   "outputs": [
    {
     "name": "stdout",
     "output_type": "stream",
     "text": [
      "Requirement already satisfied: torch in /home/codespace/.cache/pypoetry/virtualenvs/ds413-jupyter-book-o3Nm-7iB-py3.12/lib/python3.12/site-packages (2.8.0)\r\n",
      "Requirement already satisfied: filelock in /home/codespace/.cache/pypoetry/virtualenvs/ds413-jupyter-book-o3Nm-7iB-py3.12/lib/python3.12/site-packages (from torch) (3.19.1)\r\n",
      "Requirement already satisfied: typing-extensions>=4.10.0 in /home/codespace/.cache/pypoetry/virtualenvs/ds413-jupyter-book-o3Nm-7iB-py3.12/lib/python3.12/site-packages (from torch) (4.15.0)\r\n",
      "Requirement already satisfied: setuptools in /home/codespace/.cache/pypoetry/virtualenvs/ds413-jupyter-book-o3Nm-7iB-py3.12/lib/python3.12/site-packages (from torch) (80.9.0)\r\n",
      "Requirement already satisfied: sympy>=1.13.3 in /home/codespace/.cache/pypoetry/virtualenvs/ds413-jupyter-book-o3Nm-7iB-py3.12/lib/python3.12/site-packages (from torch) (1.14.0)\r\n",
      "Requirement already satisfied: networkx in /home/codespace/.cache/pypoetry/virtualenvs/ds413-jupyter-book-o3Nm-7iB-py3.12/lib/python3.12/site-packages (from torch) (3.5)\r\n",
      "Requirement already satisfied: jinja2 in /home/codespace/.cache/pypoetry/virtualenvs/ds413-jupyter-book-o3Nm-7iB-py3.12/lib/python3.12/site-packages (from torch) (3.1.6)\r\n",
      "Requirement already satisfied: fsspec in /home/codespace/.cache/pypoetry/virtualenvs/ds413-jupyter-book-o3Nm-7iB-py3.12/lib/python3.12/site-packages (from torch) (2025.9.0)\r\n",
      "Requirement already satisfied: nvidia-cuda-nvrtc-cu12==12.8.93 in /home/codespace/.cache/pypoetry/virtualenvs/ds413-jupyter-book-o3Nm-7iB-py3.12/lib/python3.12/site-packages (from torch) (12.8.93)\r\n",
      "Requirement already satisfied: nvidia-cuda-runtime-cu12==12.8.90 in /home/codespace/.cache/pypoetry/virtualenvs/ds413-jupyter-book-o3Nm-7iB-py3.12/lib/python3.12/site-packages (from torch) (12.8.90)\r\n",
      "Requirement already satisfied: nvidia-cuda-cupti-cu12==12.8.90 in /home/codespace/.cache/pypoetry/virtualenvs/ds413-jupyter-book-o3Nm-7iB-py3.12/lib/python3.12/site-packages (from torch) (12.8.90)\r\n",
      "Requirement already satisfied: nvidia-cudnn-cu12==9.10.2.21 in /home/codespace/.cache/pypoetry/virtualenvs/ds413-jupyter-book-o3Nm-7iB-py3.12/lib/python3.12/site-packages (from torch) (9.10.2.21)\r\n",
      "Requirement already satisfied: nvidia-cublas-cu12==12.8.4.1 in /home/codespace/.cache/pypoetry/virtualenvs/ds413-jupyter-book-o3Nm-7iB-py3.12/lib/python3.12/site-packages (from torch) (12.8.4.1)\r\n",
      "Requirement already satisfied: nvidia-cufft-cu12==11.3.3.83 in /home/codespace/.cache/pypoetry/virtualenvs/ds413-jupyter-book-o3Nm-7iB-py3.12/lib/python3.12/site-packages (from torch) (11.3.3.83)\r\n"
     ]
    },
    {
     "name": "stdout",
     "output_type": "stream",
     "text": [
      "Requirement already satisfied: nvidia-curand-cu12==10.3.9.90 in /home/codespace/.cache/pypoetry/virtualenvs/ds413-jupyter-book-o3Nm-7iB-py3.12/lib/python3.12/site-packages (from torch) (10.3.9.90)\r\n",
      "Requirement already satisfied: nvidia-cusolver-cu12==11.7.3.90 in /home/codespace/.cache/pypoetry/virtualenvs/ds413-jupyter-book-o3Nm-7iB-py3.12/lib/python3.12/site-packages (from torch) (11.7.3.90)\r\n",
      "Requirement already satisfied: nvidia-cusparse-cu12==12.5.8.93 in /home/codespace/.cache/pypoetry/virtualenvs/ds413-jupyter-book-o3Nm-7iB-py3.12/lib/python3.12/site-packages (from torch) (12.5.8.93)\r\n",
      "Requirement already satisfied: nvidia-cusparselt-cu12==0.7.1 in /home/codespace/.cache/pypoetry/virtualenvs/ds413-jupyter-book-o3Nm-7iB-py3.12/lib/python3.12/site-packages (from torch) (0.7.1)\r\n",
      "Requirement already satisfied: nvidia-nccl-cu12==2.27.3 in /home/codespace/.cache/pypoetry/virtualenvs/ds413-jupyter-book-o3Nm-7iB-py3.12/lib/python3.12/site-packages (from torch) (2.27.3)\r\n",
      "Requirement already satisfied: nvidia-nvtx-cu12==12.8.90 in /home/codespace/.cache/pypoetry/virtualenvs/ds413-jupyter-book-o3Nm-7iB-py3.12/lib/python3.12/site-packages (from torch) (12.8.90)\r\n",
      "Requirement already satisfied: nvidia-nvjitlink-cu12==12.8.93 in /home/codespace/.cache/pypoetry/virtualenvs/ds413-jupyter-book-o3Nm-7iB-py3.12/lib/python3.12/site-packages (from torch) (12.8.93)\r\n",
      "Requirement already satisfied: nvidia-cufile-cu12==1.13.1.3 in /home/codespace/.cache/pypoetry/virtualenvs/ds413-jupyter-book-o3Nm-7iB-py3.12/lib/python3.12/site-packages (from torch) (1.13.1.3)\r\n",
      "Requirement already satisfied: triton==3.4.0 in /home/codespace/.cache/pypoetry/virtualenvs/ds413-jupyter-book-o3Nm-7iB-py3.12/lib/python3.12/site-packages (from torch) (3.4.0)\r\n",
      "Requirement already satisfied: mpmath<1.4,>=1.1.0 in /home/codespace/.cache/pypoetry/virtualenvs/ds413-jupyter-book-o3Nm-7iB-py3.12/lib/python3.12/site-packages (from sympy>=1.13.3->torch) (1.3.0)\r\n"
     ]
    },
    {
     "name": "stdout",
     "output_type": "stream",
     "text": [
      "Requirement already satisfied: MarkupSafe>=2.0 in /home/codespace/.cache/pypoetry/virtualenvs/ds413-jupyter-book-o3Nm-7iB-py3.12/lib/python3.12/site-packages (from jinja2->torch) (3.0.2)\r\n"
     ]
    },
    {
     "name": "stdout",
     "output_type": "stream",
     "text": [
      "Note: you may need to restart the kernel to use updated packages.\n"
     ]
    }
   ],
   "source": [
    "pip install torch"
   ]
  },
  {
   "cell_type": "code",
   "execution_count": 2,
   "id": "6ace89ce",
   "metadata": {},
   "outputs": [],
   "source": [
    "import torch\n",
    "import numpy as np\n",
    "import sys"
   ]
  },
  {
   "cell_type": "markdown",
   "id": "d93ef70c",
   "metadata": {},
   "source": [
    "2. Create a function called set_seed() that accepts seed: int as a parameter, this function must return nothing but just set the seed to a certain value."
   ]
  },
  {
   "cell_type": "code",
   "execution_count": 3,
   "id": "14983ffd",
   "metadata": {},
   "outputs": [],
   "source": [
    "def set_seed(seed: int):\n",
    "    np.random.seed(seed)\n",
    "    torch.manual_seed(seed)"
   ]
  },
  {
   "cell_type": "markdown",
   "id": "4ce98fad",
   "metadata": {},
   "source": [
    "3. Create a NumPy array called \"arr\" that contains 6 random integers between 0 (inclusive) and 5 (exclusive), call the set_seed() function and use 42 as the seed parameter."
   ]
  },
  {
   "cell_type": "code",
   "execution_count": 4,
   "id": "ffa1a419",
   "metadata": {},
   "outputs": [],
   "source": [
    "arr = np.random.randint(0,5,6)\n",
    "\n",
    "set_seed(42)"
   ]
  },
  {
   "cell_type": "markdown",
   "id": "3bb0bbaf",
   "metadata": {},
   "source": [
    "4. Create a tensor \"x\" from the array above"
   ]
  },
  {
   "cell_type": "code",
   "execution_count": 5,
   "id": "8fd224d2",
   "metadata": {},
   "outputs": [
    {
     "data": {
      "text/plain": [
       "tensor([1, 0, 3, 0, 4, 4])"
      ]
     },
     "execution_count": 5,
     "metadata": {},
     "output_type": "execute_result"
    }
   ],
   "source": [
    "x = torch.tensor(arr)\n",
    "x"
   ]
  },
  {
   "cell_type": "markdown",
   "id": "0a26310d",
   "metadata": {},
   "source": [
    "5. Change the dtype of x from int32 to int64"
   ]
  },
  {
   "cell_type": "code",
   "execution_count": 6,
   "id": "58b28aa0",
   "metadata": {},
   "outputs": [
    {
     "name": "stdout",
     "output_type": "stream",
     "text": [
      "torch.int64\n"
     ]
    }
   ],
   "source": [
    "x = x.type(torch.int64)\n",
    "print(x.dtype)"
   ]
  },
  {
   "cell_type": "markdown",
   "id": "a19b5335",
   "metadata": {},
   "source": [
    "6. Reshape x into a 3x2 tensor"
   ]
  },
  {
   "cell_type": "code",
   "execution_count": 7,
   "id": "63572f85",
   "metadata": {},
   "outputs": [
    {
     "data": {
      "text/plain": [
       "tensor([[1, 0],\n",
       "        [3, 0],\n",
       "        [4, 4]])"
      ]
     },
     "execution_count": 7,
     "metadata": {},
     "output_type": "execute_result"
    }
   ],
   "source": [
    "x = x.reshape(3,2)\n",
    "x.view_as(x)"
   ]
  },
  {
   "cell_type": "markdown",
   "id": "d5038ca5",
   "metadata": {},
   "source": [
    "7. Return the right-hand column of tensor x"
   ]
  },
  {
   "cell_type": "code",
   "execution_count": 8,
   "id": "228aa0d5",
   "metadata": {},
   "outputs": [
    {
     "data": {
      "text/plain": [
       "tensor([[0],\n",
       "        [0],\n",
       "        [4]])"
      ]
     },
     "execution_count": 8,
     "metadata": {},
     "output_type": "execute_result"
    }
   ],
   "source": [
    "x = x\n",
    "rhc = x[:, 1:]\n",
    "rhc"
   ]
  },
  {
   "cell_type": "markdown",
   "id": "1f527ed8",
   "metadata": {},
   "source": [
    "8. Without changing x, return a tensor of square values of x"
   ]
  },
  {
   "cell_type": "code",
   "execution_count": 9,
   "id": "aafe1b0f",
   "metadata": {},
   "outputs": [
    {
     "data": {
      "text/plain": [
       "tensor([[ 1,  0],\n",
       "        [ 9,  0],\n",
       "        [16, 16]])"
      ]
     },
     "execution_count": 9,
     "metadata": {},
     "output_type": "execute_result"
    }
   ],
   "source": [
    "x = x\n",
    "sq_val = x ** 2\n",
    "sq_val"
   ]
  },
  {
   "cell_type": "markdown",
   "id": "71f2abfe",
   "metadata": {},
   "source": [
    "9. Create a tensor y with the same number of elements as x, that can be matrix-multiplied with x"
   ]
  },
  {
   "cell_type": "code",
   "execution_count": 10,
   "id": "06ab6742",
   "metadata": {},
   "outputs": [
    {
     "data": {
      "text/plain": [
       "tensor([[2, 2, 1],\n",
       "        [4, 1, 0]])"
      ]
     },
     "execution_count": 10,
     "metadata": {},
     "output_type": "execute_result"
    }
   ],
   "source": [
    "y = torch.randint(0, 5, (2, 3))\n",
    "y"
   ]
  },
  {
   "cell_type": "markdown",
   "id": "bbc15716",
   "metadata": {},
   "source": [
    "10. Find the matrix product of x and y."
   ]
  },
  {
   "cell_type": "code",
   "execution_count": 11,
   "id": "04b783a9",
   "metadata": {},
   "outputs": [
    {
     "data": {
      "text/plain": [
       "tensor([[ 2,  2,  1],\n",
       "        [ 6,  6,  3],\n",
       "        [24, 12,  4]])"
      ]
     },
     "execution_count": 11,
     "metadata": {},
     "output_type": "execute_result"
    }
   ],
   "source": [
    "matrix_prod = torch.matmul(x, y)\n",
    "matrix_prod"
   ]
  }
 ],
 "metadata": {
  "kernelspec": {
   "display_name": "ds413-jupyter-book-o3Nm-7iB-py3.12",
   "language": "python",
   "name": "python3"
  },
  "language_info": {
   "codemirror_mode": {
    "name": "ipython",
    "version": 3
   },
   "file_extension": ".py",
   "mimetype": "text/x-python",
   "name": "python",
   "nbconvert_exporter": "python",
   "pygments_lexer": "ipython3",
   "version": "3.12.1"
  }
 },
 "nbformat": 4,
 "nbformat_minor": 5
}