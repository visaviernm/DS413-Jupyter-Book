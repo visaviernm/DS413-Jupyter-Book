{
 "cells": [
  {
   "cell_type": "markdown",
   "id": "80acf22c",
   "metadata": {},
   "source": [
    "# Laboratory Task 1"
   ]
  }
 ],
 "metadata": {
  "language_info": {
   "codemirror_mode": {
    "name": "ipython",
    "version": 3
   },
   "file_extension": ".py",
   "mimetype": "text/x-python",
   "name": "python",
   "nbconvert_exporter": "python",
   "pygments_lexer": "ipython3",
   "version": "3.12.1"
  }
 },
 "nbformat": 4,
 "nbformat_minor": 5
}