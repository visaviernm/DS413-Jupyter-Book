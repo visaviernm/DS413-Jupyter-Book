{
 "cells": [
  {
   "cell_type": "markdown",
   "id": "2777c45e",
   "metadata": {},
   "source": [
    "# Laboratory Task 1"
   ]
  },
  {
   "cell_type": "markdown",
   "id": "f8044220",
   "metadata": {},
   "source": [
    "Instruction: From the example scenario above, create additional two inquiries for each type of data analytics.\n",
    "\n",
    "Example Scenario:\n",
    "\n",
    "Dr. Jake is a medical doctor and the CEO of Astro JR, a giant pharmaceutical company in the Philippines. To support the production and use of AstroJR's COVID19 vaccine, this company has implemented a number of business intelligence and data analytics tools. Your task is to provide the appropriate and necessary analytical questions Dr. Jake must ask his analytics team in order to provide better deployment and production of COVID19 vaccines around the world using descriptive, predictive, and prescriptive analytics.\n",
    "\n",
    "Descriptive: How many vaccine doses were distributed to each region in the past month?\n",
    "Diagnostic: Why did certain regions experience slower vaccine uptake compared to others?\n",
    "Predictive: How many vaccines doses will be needed in Cagayan De Oro in the next three months?\n",
    "Prescriptive: Given the experienced rise in cases, what is the optimal allocation of vaccines across regions?\n",
    "\n",
    "Descriptive: What percentage of distrbuted vaccines were used within two weeks of delivery?\n",
    "Diagnostic: What caused delays in vaccine distribution during the last quarter?\n",
    "Predictive: What is the projected demand for booster shots in the next six months?\n",
    "Prescriptive: If supply chain disruptions occur, what alternative distribution strategy should be implemented to maintain coverage?"
   ]
  }
 ],
 "metadata": {
  "language_info": {
   "codemirror_mode": {
    "name": "ipython",
    "version": 3
   },
   "file_extension": ".py",
   "mimetype": "text/x-python",
   "name": "python",
   "nbconvert_exporter": "python",
   "pygments_lexer": "ipython3",
   "version": "3.12.1"
  }
 },
 "nbformat": 4,
 "nbformat_minor": 5
}