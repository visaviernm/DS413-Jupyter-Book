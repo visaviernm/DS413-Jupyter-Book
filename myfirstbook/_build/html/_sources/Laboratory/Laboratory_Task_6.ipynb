{
 "cells": [
  {
   "cell_type": "markdown",
   "id": "3845dc69",
   "metadata": {},
   "source": [
    "# Laboratory Task 6\n",
    "\n",
    "\n",
    "**Instruction:** Instruction: Convert the following CNN architecture diagram into a PyTorch CNN Architecture.\n",
    "\n",
    "![Caption text](../images/quick_draw.png)"
   ]
  },
  {
   "cell_type": "code",
   "execution_count": 1,
   "id": "703029da",
   "metadata": {},
   "outputs": [],
   "source": [
    "import torch\n",
    "import torch.nn as nn\n",
    "import torch.nn.functional as F"
   ]
  },
  {
   "cell_type": "code",
   "execution_count": 2,
   "id": "75a5b901",
   "metadata": {},
   "outputs": [],
   "source": [
    "class CNNModel(nn.Module):\n",
    "    def __init__(self):\n",
    "        super(CNNModel, self).__init__()\n",
    "        \n",
    "        # Conv1 block\n",
    "        self.conv1 = nn.Conv2d(1, 32, kernel_size=3, stride=1, padding=1)\n",
    "        self.pool1 = nn.MaxPool2d(kernel_size=2, stride=2, padding=1)\n",
    "        \n",
    "        # Conv2 block\n",
    "        self.conv2 = nn.Conv2d(32, 64, kernel_size=3, stride=1, padding=1)\n",
    "        self.conv3 = nn.Conv2d(64, 64, kernel_size=3, stride=1, padding=1)\n",
    "        self.conv4 = nn.Conv2d(64, 128, kernel_size=3, stride=1, padding=1)\n",
    "        self.pool2 = nn.MaxPool2d(kernel_size=2, stride=2, padding=0)\n",
    "        \n",
    "        # Dropout\n",
    "        self.dropout = nn.Dropout(p=0.2)\n",
    "        \n",
    "        # Determine flatten dimension automatically\n",
    "        x = torch.zeros(1, 1, 28, 28)\n",
    "        x = self._forward_features(x)\n",
    "        flatten_dim = x.view(1, -1).size(1)\n",
    "        \n",
    "        # Fully connected layers\n",
    "        self.fc1 = nn.Linear(flatten_dim, 1000)\n",
    "        self.fc2 = nn.Linear(1000, 500)\n",
    "        self.fc3 = nn.Linear(500, 10)  # MNIST → 10 classes\n",
    "\n",
    "    def _forward_features(self, x):\n",
    "        x = self.pool1(F.relu(self.conv1(x)))\n",
    "        x = F.relu(self.conv2(x))\n",
    "        x = F.relu(self.conv3(x))\n",
    "        x = self.pool2(F.relu(self.conv4(x)))\n",
    "        return x\n",
    "\n",
    "    def forward(self, x):\n",
    "        x = self._forward_features(x)\n",
    "        x = self.dropout(x)\n",
    "        x = torch.flatten(x, 1)\n",
    "        x = F.relu(self.fc1(x))\n",
    "        x = F.relu(self.fc2(x))\n",
    "        x = self.fc3(x)\n",
    "        x = F.softmax(x, dim=1)  # Apply Softmax for class probabilities\n",
    "        return x"
   ]
  },
  {
   "cell_type": "code",
   "execution_count": 3,
   "id": "61af4a40",
   "metadata": {},
   "outputs": [
    {
     "name": "stdout",
     "output_type": "stream",
     "text": [
      "CNNModel(\n",
      "  (conv1): Conv2d(1, 32, kernel_size=(3, 3), stride=(1, 1), padding=(1, 1))\n",
      "  (pool1): MaxPool2d(kernel_size=2, stride=2, padding=1, dilation=1, ceil_mode=False)\n",
      "  (conv2): Conv2d(32, 64, kernel_size=(3, 3), stride=(1, 1), padding=(1, 1))\n",
      "  (conv3): Conv2d(64, 64, kernel_size=(3, 3), stride=(1, 1), padding=(1, 1))\n",
      "  (conv4): Conv2d(64, 128, kernel_size=(3, 3), stride=(1, 1), padding=(1, 1))\n",
      "  (pool2): MaxPool2d(kernel_size=2, stride=2, padding=0, dilation=1, ceil_mode=False)\n",
      "  (dropout): Dropout(p=0.2, inplace=False)\n",
      "  (fc1): Linear(in_features=6272, out_features=1000, bias=True)\n",
      "  (fc2): Linear(in_features=1000, out_features=500, bias=True)\n",
      "  (fc3): Linear(in_features=500, out_features=10, bias=True)\n",
      ")\n",
      "Output probabilities: tensor([[0.0992, 0.1024, 0.0959, 0.1033, 0.0999, 0.0981, 0.0987, 0.1028, 0.0993,\n",
      "         0.1004]], grad_fn=<SoftmaxBackward0>)\n",
      "Predicted class: 3\n"
     ]
    }
   ],
   "source": [
    "# Test model\n",
    "model = CNNModel()\n",
    "print(model)\n",
    "\n",
    "sample = torch.randn(1, 1, 28, 28)\n",
    "output = model(sample)\n",
    "print(\"Output probabilities:\", output)\n",
    "print(\"Predicted class:\", torch.argmax(output, dim=1).item())"
   ]
  }
 ],
 "metadata": {
  "kernelspec": {
   "display_name": "ds413-jupyter-book-o3Nm-7iB-py3.12",
   "language": "python",
   "name": "python3"
  },
  "language_info": {
   "codemirror_mode": {
    "name": "ipython",
    "version": 3
   },
   "file_extension": ".py",
   "mimetype": "text/x-python",
   "name": "python",
   "nbconvert_exporter": "python",
   "pygments_lexer": "ipython3",
   "version": "3.12.1"
  }
 },
 "nbformat": 4,
 "nbformat_minor": 5
}
