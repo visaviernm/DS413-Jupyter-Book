{
 "cells": [
  {
   "cell_type": "markdown",
   "id": "0280b580",
   "metadata": {},
   "source": [
    "# Project 1"
   ]
  }
 ],
 "metadata": {
  "language_info": {
   "name": "python"
  }
 },
 "nbformat": 4,
 "nbformat_minor": 5
}
